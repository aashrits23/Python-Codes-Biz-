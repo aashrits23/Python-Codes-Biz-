{
  "nbformat": 4,
  "nbformat_minor": 0,
  "metadata": {
    "colab": {
      "provenance": [],
      "authorship_tag": "ABX9TyOYdomk4ZRCNYHvQJJOQ3OK",
      "include_colab_link": true
    },
    "kernelspec": {
      "name": "python3",
      "display_name": "Python 3"
    },
    "language_info": {
      "name": "python"
    }
  },
  "cells": [
    {
      "cell_type": "markdown",
      "metadata": {
        "id": "view-in-github",
        "colab_type": "text"
      },
      "source": [
        "<a href=\"https://colab.research.google.com/github/aashrits23/Python-Codes-Biz-/blob/main/13_02_25.ipynb\" target=\"_parent\"><img src=\"https://colab.research.google.com/assets/colab-badge.svg\" alt=\"Open In Colab\"/></a>"
      ]
    },
    {
      "cell_type": "markdown",
      "source": [
        "# 1.\tCreate the empty list and ask user to enters only int, float elements in the list."
      ],
      "metadata": {
        "id": "cci4oikXrH9o"
      }
    },
    {
      "cell_type": "code",
      "source": [
        "def numeric_list():\n",
        "  my_list = []\n",
        "  while True:\n",
        "    try:\n",
        "      element = input(\"Enter an integer or float (or type 'done' to finish): \")\n",
        "      if element.lower() == 'done':\n",
        "        break\n",
        "\n",
        "      number = float(element)\n",
        "      my_list.append(number)\n",
        "    except ValueError:\n",
        "      print(\"Invalid input. Please enter a valid integer or float.\")\n",
        "\n",
        "  return my_list\n",
        "numeric_list = numeric_list()\n",
        "print(\"Your list:\", numeric_list)\n",
        "\n"
      ],
      "metadata": {
        "id": "WKRaj57EqtCf"
      },
      "execution_count": null,
      "outputs": []
    },
    {
      "cell_type": "markdown",
      "source": [
        "# 2.\tCreate a empty dictionary d1 ask user to enter the values using loop"
      ],
      "metadata": {
        "id": "HIIwFO0IrGd8"
      }
    },
    {
      "cell_type": "code",
      "source": [
        "d1={}\n",
        "while True:\n",
        "    key = input(\"Enter a key (or type 'done' to finish): \")\n",
        "    if key.lower() == 'done':\n",
        "        break\n",
        "\n",
        "    value = input(f\"Enter the value for key '{key}': \")\n",
        "    d1[key] = value\n",
        "\n",
        "print(\"Your dictionary:\", d1)\n"
      ],
      "metadata": {
        "id": "S7Zo92QcqtFk",
        "colab": {
          "base_uri": "https://localhost:8080/"
        },
        "outputId": "49e2521b-cd6d-4c29-c8b2-e18654128dbe"
      },
      "execution_count": null,
      "outputs": [
        {
          "output_type": "stream",
          "name": "stdout",
          "text": [
            "Enter a key (or type 'done' to finish): a\n",
            "Enter the value for key 'a': aa\n",
            "Enter a key (or type 'done' to finish): b\n",
            "Enter the value for key 'b': bb\n",
            "Enter a key (or type 'done' to finish): c\n",
            "Enter the value for key 'c': cc\n",
            "Enter a key (or type 'done' to finish): d\n",
            "Enter the value for key 'd': dd\n",
            "Enter a key (or type 'done' to finish): done\n",
            "Your dictionary: {'a': 'aa', 'b': 'bb', 'c': 'cc', 'd': 'dd'}\n"
          ]
        }
      ]
    },
    {
      "cell_type": "markdown",
      "source": [],
      "metadata": {
        "id": "qst-W7chta5P"
      }
    },
    {
      "cell_type": "code",
      "source": [
        "d1 = {}\n",
        "while True:\n",
        "    key = input(\"Enter a key (or type 'done' to finish): \")\n",
        "    if key.lower() == 'done':\n",
        "        break\n",
        "\n",
        "    value = input(f\"Enter the value for key '{key}': \")\n",
        "    d1[key] = value\n",
        "\n",
        "print(\"Your dictionary:\", d1)\n"
      ],
      "metadata": {
        "id": "WKaO0nZ3tlA1"
      },
      "execution_count": null,
      "outputs": []
    },
    {
      "cell_type": "markdown",
      "source": [
        "# 4.\tCreate a function which will accept two integer or float parameter from user and return 4 arithmetic operations in the form of tuple. If user pass argument other than integer and float then error should be created."
      ],
      "metadata": {
        "id": "TykzumoxwCIy"
      }
    },
    {
      "source": [
        "def arithmetic_operations(num1, num2):\n",
        "    if not (isinstance(num1, (int, float)) and isinstance(num2, (int, float))):\n",
        "        raise ValueError(\"Inputs must be integers or floats.\")\n",
        "\n",
        "    addition = num1 + num2\n",
        "    subtraction = num1 - num2\n",
        "    multiplication = num1 * num2\n",
        "    if num2 == 0:\n",
        "        division = \"Division by zero\"\n",
        "    else:\n",
        "        division = num1 / num2\n",
        "\n",
        "    return addition, subtraction, multiplication, division\n",
        "try:\n",
        "    num1 = float(input(\"Enter the first number: \"))\n",
        "    num2 = float(input(\"Enter the second number: \"))\n",
        "\n",
        "    results = arithmetic_operations(num1, num2)\n",
        "    print(\"Results:\", results)\n",
        "\n",
        "except ValueError:\n",
        "    print(\"Invalid input. Please enter numbers only.\")"
      ],
      "cell_type": "code",
      "metadata": {
        "colab": {
          "base_uri": "https://localhost:8080/"
        },
        "id": "XKeAzdVw-zaP",
        "outputId": "6156b3e3-19d9-4cdb-c694-653f0386da19"
      },
      "execution_count": null,
      "outputs": [
        {
          "output_type": "stream",
          "name": "stdout",
          "text": [
            "Enter the first number: 65\n",
            "Enter the second number: 12\n",
            "Results: (77.0, 53.0, 780.0, 5.416666666666667)\n"
          ]
        }
      ]
    },
    {
      "cell_type": "markdown",
      "source": [
        "# 5.\t Based on the above function (Question number 4) dived the outcome of multiplication by 2."
      ],
      "metadata": {
        "id": "xH_OBtrdBFxm"
      }
    },
    {
      "cell_type": "code",
      "source": [
        "def arithmetic_operations(num1, num2):\n",
        "    if not (isinstance(num1, (int, float)) and isinstance(num2, (int, float))):\n",
        "        raise ValueError(\"Inputs must be integers or floats.\")\n",
        "\n",
        "    addition = num1 + num2\n",
        "    subtraction = num1 - num2\n",
        "    multiplication = num1 * num2\n",
        "    if num2 == 0:\n",
        "        division = \"Division by zero\"\n",
        "    else:\n",
        "        division = num1 / num2\n",
        "\n",
        "    multiplication_divided_by_two = multiplication / 2\n",
        "\n",
        "    return addition, subtraction, multiplication, division, multiplication_divided_by_two\n",
        "\n",
        "try:\n",
        "    num1 = float(input(\"Enter the first number: \"))\n",
        "    num2 = float(input(\"Enter the second number: \"))\n",
        "\n",
        "    results = arithmetic_operations(num1, num2)\n",
        "    print(\"Results:\", results)\n",
        "\n",
        "except ValueError:\n",
        "    print(\"Invalid input. Please enter numbers only.\")\n"
      ],
      "metadata": {
        "colab": {
          "base_uri": "https://localhost:8080/"
        },
        "id": "1oyoKgTESPjr",
        "outputId": "0545c947-c022-427e-f1b2-bf73705afd52"
      },
      "execution_count": null,
      "outputs": [
        {
          "output_type": "stream",
          "name": "stdout",
          "text": [
            "Enter the first number: 435\n",
            "Enter the second number: 444\n",
            "Results: (879.0, -9.0, 193140.0, 0.9797297297297297, 96570.0)\n"
          ]
        }
      ]
    },
    {
      "cell_type": "markdown",
      "source": [
        "# 6.\tcreate a function to add only string element in a list. if other than string display the appropriate message."
      ],
      "metadata": {
        "id": "s2QRIfjgSXqV"
      }
    },
    {
      "cell_type": "code",
      "source": [
        "def strings_to_list():\n",
        "    string_list = []\n",
        "    while True:\n",
        "        element = input(\"Enter a string element (or type 'done' to finish): \")\n",
        "        if element.lower() == 'done':\n",
        "            break\n",
        "        if isinstance(element, str):\n",
        "            string_list.append(element)\n",
        "        else:\n",
        "            print(f\"Invalid input: {element} is not a string.\")\n",
        "    return string_list\n",
        "\n",
        "my_string_list = strings_to_list()\n",
        "print(\"Your string list:\", my_string_list)\n"
      ],
      "metadata": {
        "colab": {
          "base_uri": "https://localhost:8080/"
        },
        "id": "n4vCwpHNSXSU",
        "outputId": "61c7273b-6854-4d49-80a6-9658c534746d"
      },
      "execution_count": null,
      "outputs": [
        {
          "output_type": "stream",
          "name": "stdout",
          "text": [
            "Enter a string element (or type 'done' to finish): a\n",
            "Enter a string element (or type 'done' to finish): aa\n",
            "Enter a string element (or type 'done' to finish): aaa\n",
            "Enter a string element (or type 'done' to finish): aaaa\n",
            "Enter a string element (or type 'done' to finish): done\n",
            "Your string list: ['a', 'aa', 'aaa', 'aaaa']\n"
          ]
        }
      ]
    },
    {
      "cell_type": "markdown",
      "source": [
        "#  7.\tCreate a function to read the file and return the dictionary of total lines, total words"
      ],
      "metadata": {
        "id": "4KUCGeurS2o-"
      }
    },
    {
      "source": [
        "def file_stats():\n",
        "    filepath = input(\"Enter the filepath: \")\n",
        "    try:\n",
        "        with open(filepath, 'r', encoding='latin-1') as file:\n",
        "            lines = file.readlines()\n",
        "            total_lines = len(lines)\n",
        "            total_words = 0\n",
        "            for line in lines:\n",
        "                words = line.split()\n",
        "                total_words += len(words)\n",
        "            return {\"lines\": total_lines, \"words\": total_words}\n",
        "    except FileNotFoundError:\n",
        "        print(f\"Error: File '{filepath}' not found.\")\n",
        "        return None\n",
        "    except UnicodeDecodeError:\n",
        "        print(f\"Error: Could not decode file '{filepath}' using 'latin-1' encoding. Try a different encoding.\")\n",
        "        return None\n",
        "\n",
        "stats = file_stats()\n",
        "if stats:\n",
        "    print(\"File Statistics:\", stats)\n",
        "\n"
      ],
      "cell_type": "code",
      "metadata": {
        "colab": {
          "base_uri": "https://localhost:8080/"
        },
        "id": "PHYUgbTTUYsk",
        "outputId": "cbed90d2-c504-4eb1-d6fc-d81b6644c542"
      },
      "execution_count": null,
      "outputs": [
        {
          "output_type": "stream",
          "name": "stdout",
          "text": [
            "Enter the filepath: /content/Aashrit_susarla_resume-1.pdf\n",
            "File Statistics: {'lines': 973, 'words': 4253}\n"
          ]
        }
      ]
    },
    {
      "cell_type": "markdown",
      "source": [
        "# 8.\tCreate a function which will accept the dictionary and display key values in separate line."
      ],
      "metadata": {
        "id": "HKJUo94HWsAF"
      }
    },
    {
      "cell_type": "code",
      "source": [
        "def display_dictionary(input_dict):\n",
        "\n",
        "    for key, value in input_dict.items():\n",
        "        print(f\"Key: {key}, Value: {value}\")\n",
        "\n",
        "display_dictionary(d1)\n"
      ],
      "metadata": {
        "colab": {
          "base_uri": "https://localhost:8080/"
        },
        "id": "7aROAK8ITB-v",
        "outputId": "74ac8633-8bfa-4359-e9f1-e4d2af0deda6"
      },
      "execution_count": null,
      "outputs": [
        {
          "output_type": "stream",
          "name": "stdout",
          "text": [
            "Key: a, Value: aa\n",
            "Key: b, Value: bb\n",
            "Key: c, Value: cc\n",
            "Key: d, Value: dd\n"
          ]
        }
      ]
    },
    {
      "cell_type": "markdown",
      "source": [
        "# 9.\tCreate a lambda function which will accept the dictionary and display key values in separate line."
      ],
      "metadata": {
        "id": "GJXLMwexXbEO"
      }
    },
    {
      "cell_type": "code",
      "source": [
        "display_dict = lambda input_dict: [print(f\"Key: {key}, Value: {value}\") for key, value in input_dict.items()]\n",
        "display_dict(d1)\n"
      ],
      "metadata": {
        "colab": {
          "base_uri": "https://localhost:8080/"
        },
        "id": "XVbxVBz8W0qG",
        "outputId": "9dc19ed7-fd19-4be3-cc38-e9ca0cf2f492"
      },
      "execution_count": null,
      "outputs": [
        {
          "output_type": "stream",
          "name": "stdout",
          "text": [
            "Key: a, Value: aa\n",
            "Key: b, Value: bb\n",
            "Key: c, Value: cc\n",
            "Key: d, Value: dd\n"
          ]
        },
        {
          "output_type": "execute_result",
          "data": {
            "text/plain": [
              "[None, None, None, None]"
            ]
          },
          "metadata": {},
          "execution_count": 18
        }
      ]
    },
    {
      "cell_type": "markdown",
      "source": [
        "# 10.\tCreate a function to validate the password: password should contains at least one small letter, one capital letter, one number, and one special character except comma, quotes"
      ],
      "metadata": {
        "id": "mshEdd_hXkGN"
      }
    },
    {
      "cell_type": "code",
      "source": [
        "import re\n",
        "def validate_password(password):\n",
        "  if len(password) < 8:\n",
        "    return False\n",
        "  if not re.search(\"[a-z]\", password):\n",
        "    return False\n",
        "  if not re.search(\"[A-Z]\", password):\n",
        "    return False\n",
        "  if not re.search(\"[0-9]\", password):\n",
        "    return False\n",
        "  if not re.search(\"[^a-zA-Z0-9,']\", password):\n",
        "    return False\n",
        "  return True\n",
        "password = input(\"Enter password:\")\n",
        "if validate_password(password):\n",
        "    print(\"Valid password\")\n",
        "else:\n",
        "    print(\"Invalid password\")\n"
      ],
      "metadata": {
        "colab": {
          "base_uri": "https://localhost:8080/"
        },
        "id": "hIRz98grXoC8",
        "outputId": "aea3b92a-a6eb-48d7-9f27-272d8fd8ead7"
      },
      "execution_count": null,
      "outputs": [
        {
          "output_type": "stream",
          "name": "stdout",
          "text": [
            "Enter password:Aashrit@1234\n",
            "Valid password\n"
          ]
        }
      ]
    },
    {
      "cell_type": "markdown",
      "source": [
        "# 11.\tGenerate a decorator having logic to accept natural numbers . which can be used in a function of factorial"
      ],
      "metadata": {
        "id": "WS0aAAShpHRm"
      }
    },
    {
      "cell_type": "code",
      "source": [
        "import functools\n",
        "\n",
        "def natural_number_decorator(func):\n",
        "    @functools.wraps(func)\n",
        "    def wrapper(n):\n",
        "        if not isinstance(n, int) or n < 0:\n",
        "            raise ValueError(\"Input must be a non-negative integer.\")\n",
        "        return func(n)\n",
        "    return wrapper\n",
        "\n",
        "@natural_number_decorator\n",
        "def factorial(n):\n",
        "    if n == 0:\n",
        "        return 1\n",
        "    else:\n",
        "        return n * factorial(n-1)\n",
        "\n",
        "while True:\n",
        "    try:\n",
        "        num = int(input(\"Enter a non-negative integer: \"))\n",
        "        result = factorial(num)\n",
        "        print(f\"The factorial of {num} is {result}\")\n",
        "        break  # Exit the loop if successful\n",
        "    except ValueError as e:\n",
        "        print(f\"Error: {e}\")\n",
        "    except RecursionError:\n",
        "        print(\"Error: The input number is too large to calculate factorial.\")"
      ],
      "metadata": {
        "colab": {
          "base_uri": "https://localhost:8080/"
        },
        "id": "PEkzCLJLpW9i",
        "outputId": "96001203-eec4-461e-abab-d0d40d9bc893"
      },
      "execution_count": null,
      "outputs": [
        {
          "output_type": "stream",
          "name": "stdout",
          "text": [
            "Enter a non-negative integer: 10\n",
            "The factorial of 10 is 3628800\n"
          ]
        }
      ]
    },
    {
      "cell_type": "markdown",
      "source": [
        "# 13.\tCreate lambda function for sorting of the string"
      ],
      "metadata": {
        "id": "tsDVEXefqm1t"
      }
    },
    {
      "cell_type": "code",
      "source": [
        "sort_string = lambda s: \"\".join(sorted(s))\n",
        "\n",
        "string_to_sort = input(\"Enter the string: \")\n",
        "sorted_string = sort_string(string_to_sort)\n",
        "print(\"Sorted string:\", sorted_string)\n",
        "\n"
      ],
      "metadata": {
        "colab": {
          "base_uri": "https://localhost:8080/"
        },
        "id": "8KJqnwAEwkMM",
        "outputId": "89b57790-2328-40c6-89d7-9ebc3f8c7387"
      },
      "execution_count": null,
      "outputs": [
        {
          "output_type": "stream",
          "name": "stdout",
          "text": [
            "Enter the string: QWERTYUIOPLKJHGFDSAZXCVBNM\n",
            "Sorted string: ABCDEFGHIJKLMNOPQRSTUVWXYZ\n"
          ]
        }
      ]
    },
    {
      "cell_type": "markdown",
      "source": [
        "# 14.\tCreate a generator which will generate runtime unique value as  ABC0001, ABC0002, ABC0003…"
      ],
      "metadata": {
        "id": "Ca32g2Ey5Zp1"
      }
    },
    {
      "cell_type": "code",
      "source": [
        "def id_generator():\n",
        "    i = 1\n",
        "    while True:\n",
        "        yield f\"ABC{i:04}\"\n",
        "        i += 1\n",
        "\n",
        "my_generator = id_generator()\n",
        "for _ in range(5):\n",
        "    print(next(my_generator))\n"
      ],
      "metadata": {
        "colab": {
          "base_uri": "https://localhost:8080/"
        },
        "id": "1KD29fxHxMqT",
        "outputId": "4f3f6b4c-f523-4e5f-fb96-9e87e8640714"
      },
      "execution_count": null,
      "outputs": [
        {
          "output_type": "stream",
          "name": "stdout",
          "text": [
            "ABC0001\n",
            "ABC0002\n",
            "ABC0003\n",
            "ABC0004\n",
            "ABC0005\n"
          ]
        }
      ]
    },
    {
      "cell_type": "markdown",
      "source": [
        "# 15.\tCreate a decorator to check if all input values are alpha numeric and based on it check PAN detail  AAAAA1111X , rec.no   first 3 chr next 5 number\n"
      ],
      "metadata": {
        "id": "8sJy3_Yh9W5E"
      }
    },
    {
      "cell_type": "code",
      "source": [
        "import functools\n",
        "\n",
        "def alphanumeric_decorator(func):\n",
        "    @functools.wraps(func)\n",
        "    def wrapper(*args):\n",
        "        for arg in args:\n",
        "            if not arg.isalnum():\n",
        "                raise ValueError(\"Input values must be alphanumeric.\")\n",
        "        return func(*args)\n",
        "    return wrapper\n",
        "\n",
        "@alphanumeric_decorator\n",
        "def check_pan(pan):\n",
        "    if len(pan) != 10:\n",
        "        return False\n",
        "    if not pan[:5].isalpha():\n",
        "      return False\n",
        "    if not pan[5:9].isdigit():\n",
        "      return False\n",
        "    if not pan[9].isalpha():\n",
        "      return False\n",
        "    return True\n",
        "\n",
        "@alphanumeric_decorator\n",
        "def check_rec_no(rec_no):\n",
        "    if len(rec_no) != 8:\n",
        "        return False\n",
        "    if not rec_no[:3].isalpha():\n",
        "        return False\n",
        "    if not rec_no[3:].isdigit():\n",
        "        return False\n",
        "    return True\n",
        "\n",
        "pan_number = input(\"Enter PAN number: \")\n",
        "if check_pan(pan_number):\n",
        "    print(\"Valid PAN number.\")\n",
        "else:\n",
        "    print(\"Invalid PAN number.\")\n",
        "\n",
        "rec_number = input(\"Enter Rec. No.: \")\n",
        "if check_rec_no(rec_number):\n",
        "    print(\"Valid Rec. No.\")\n",
        "else:\n",
        "    print(\"Invalid Rec. No.\")\n"
      ],
      "metadata": {
        "colab": {
          "base_uri": "https://localhost:8080/"
        },
        "id": "UoCDnEXx5qTD",
        "outputId": "8c69a78b-fc3e-4727-d928-0b79edc3a257"
      },
      "execution_count": null,
      "outputs": [
        {
          "output_type": "stream",
          "name": "stdout",
          "text": [
            "Enter PAN number: PFRPS7166L\n",
            "Valid PAN number.\n",
            "Enter Rec. No.: 2548\n",
            "Invalid Rec. No.\n"
          ]
        }
      ]
    },
    {
      "cell_type": "markdown",
      "source": [
        "# 16.\tAccept 2 values from user and perform all arithmetic operations and return all"
      ],
      "metadata": {
        "id": "2eBj8F94BMjj"
      }
    },
    {
      "cell_type": "code",
      "source": [
        "def arithmetic_operations(num1, num2):\n",
        "    try:\n",
        "        addition = num1 + num2\n",
        "        subtraction = num1 - num2\n",
        "        multiplication = num1 * num2\n",
        "        division = num1 / num2 if num2 != 0 else \"Division by zero\"\n",
        "        return addition, subtraction, multiplication, division\n",
        "    except TypeError:\n",
        "        return \"Invalid input. Please enter numbers only.\"\n",
        "\n",
        "try:\n",
        "    num1 = float(input(\"Enter the first number: \"))\n",
        "    num2 = float(input(\"Enter the second number: \"))\n",
        "    results = arithmetic_operations(num1, num2)\n",
        "    print(\"Results:\", results)\n",
        "except ValueError:\n",
        "    print(\"Invalid input. Please enter numbers only.\")\n"
      ],
      "metadata": {
        "colab": {
          "base_uri": "https://localhost:8080/"
        },
        "id": "j6aLyH8EAYQG",
        "outputId": "c7df83dd-cb87-40b5-dd57-bb49131354c7"
      },
      "execution_count": null,
      "outputs": [
        {
          "output_type": "stream",
          "name": "stdout",
          "text": [
            "Enter the first number: 123\n",
            "Enter the second number: 321\n",
            "Results: (444.0, -198.0, 39483.0, 0.38317757009345793)\n"
          ]
        }
      ]
    },
    {
      "cell_type": "markdown",
      "source": [
        "# 17.\tAsk user to enter any 3 input e.g name, marks , mobile_num"
      ],
      "metadata": {
        "id": "y67mOyRdMF-t"
      }
    },
    {
      "cell_type": "code",
      "source": [
        "def get_user_input():\n",
        "    name = input(\"Enter name: \")\n",
        "    while True:\n",
        "        try:\n",
        "            marks = int(input(\"Enter marks: \"))\n",
        "            if 0 <= marks <= 100:\n",
        "                break\n",
        "            else:\n",
        "                print(\"Marks should be between 0 and 100.\")\n",
        "        except ValueError:\n",
        "            print(\"Invalid input for marks. Please enter an integer.\")\n",
        "\n",
        "    while True:\n",
        "        mobile_num = input(\"Enter mobile number: \")\n",
        "        if mobile_num.isdigit() and len(mobile_num) == 10:\n",
        "            break\n",
        "        else:\n",
        "            print(\"Invalid mobile number. Please enter a 10-digit number.\")\n",
        "\n",
        "    return name, marks, mobile_num\n",
        "\n",
        "name, marks, mobile_num = get_user_input()\n",
        "print(\"Name:\", name)\n",
        "print(\"Marks:\", marks)\n",
        "print(\"Mobile Number:\", mobile_num)\n"
      ],
      "metadata": {
        "colab": {
          "base_uri": "https://localhost:8080/"
        },
        "id": "k2IFV8PrMGMU",
        "outputId": "1379635f-234b-43c3-f2fb-54385a5cf98d"
      },
      "execution_count": null,
      "outputs": [
        {
          "output_type": "stream",
          "name": "stdout",
          "text": [
            "Enter name: Aashrit\n",
            "Enter marks: 95\n",
            "Enter mobile number: 9398462765\n",
            "Name: Aashrit\n",
            "Marks: 95\n",
            "Mobile Number: 9398462765\n"
          ]
        }
      ]
    },
    {
      "cell_type": "markdown",
      "source": [
        "# 19.\tIn the hotel user is entering the details of menu, quantity and printing the bill. number of menu may varies with customer's order generate a file having grocery bill as per the below format\n"
      ],
      "metadata": {
        "id": "G7GzCTSfP-MH"
      }
    },
    {
      "cell_type": "code",
      "source": [
        "def generate_grocery_bill():\n",
        "    items = []\n",
        "    while True:\n",
        "        item_name = input(\"Enter item name (or 'done' to finish): \")\n",
        "        if item_name.lower() == 'done':\n",
        "            break\n",
        "        quantity = int(input(\"Enter quantity: \"))\n",
        "        price = float(input(\"Enter price per item: \"))\n",
        "        items.append((item_name, quantity, price))\n",
        "\n",
        "    total_amount = sum(quantity * price for _, quantity, price in items)\n",
        "    gst = total_amount * 0.10\n",
        "    total_with_gst = total_amount + gst\n",
        "\n",
        "    with open(\"grocery_bill.txt\", \"w\") as file:\n",
        "        file.write(\"Grocery Bill\\n\")\n",
        "        file.write(\"============\\n\")\n",
        "        for item_name, quantity, price in items:\n",
        "            file.write(f\"{item_name}: {quantity} x {price} = {quantity * price}\\n\")\n",
        "        file.write(\"============\\n\")\n",
        "        file.write(f\"Total Amount: {total_amount}\\n\")\n",
        "        file.write(f\"GST (10%): {gst}\\n\")\n",
        "        file.write(f\"Total with GST: {total_with_gst}\\n\")\n",
        "\n",
        "generate_grocery_bill()"
      ],
      "metadata": {
        "id": "ifvTod2BdaMk"
      },
      "execution_count": null,
      "outputs": []
    },
    {
      "cell_type": "markdown",
      "source": [
        "# 20.\tAsk user to enter the valid file path and check which word is having more repetition in the file"
      ],
      "metadata": {
        "id": "TU0V5Bnzf86U"
      }
    },
    {
      "source": [
        "import re\n",
        "from collections import Counter\n",
        "\n",
        "def most_repeated_word(filepath):\n",
        "    try:\n",
        "        with open(filepath, 'r', encoding='latin-1') as file:\n",
        "            text = file.read()\n",
        "    except FileNotFoundError:\n",
        "        return \"Error: File not found.\"\n",
        "    except UnicodeDecodeError:\n",
        "        try:\n",
        "            with open(filepath, 'r', encoding='utf-8') as file:\n",
        "                text = file.read()\n",
        "        except UnicodeDecodeError:\n",
        "            return \"Error: Could not decode file. Please check the encoding.\"\n",
        "    text = re.sub(r'[^\\w\\s]', '', text).lower()\n",
        "\n",
        "    words = text.split()\n",
        "    word_counts = Counter(words)\n",
        "    most_common_word = word_counts.most_common(1)\n",
        "\n",
        "    if most_common_word:\n",
        "      return f\"The most repeated word is '{most_common_word[0][0]}' with {most_common_word[0][1]} repetitions.\"\n",
        "    else:\n",
        "      return \"No words found in the file.\"\n",
        "\n",
        "\n",
        "filepath = input(\"Enter the file path: \")\n",
        "result = most_repeated_word(filepath)\n",
        "result"
      ],
      "cell_type": "code",
      "metadata": {
        "colab": {
          "base_uri": "https://localhost:8080/",
          "height": 53
        },
        "id": "z_nNDrXcgQw7",
        "outputId": "071001dc-52e3-4f26-e85e-2a800d85066c"
      },
      "execution_count": null,
      "outputs": [
        {
          "name": "stdout",
          "output_type": "stream",
          "text": [
            "Enter the file path: /content/Aashrit_susarla_resume-1.docx\n"
          ]
        },
        {
          "output_type": "execute_result",
          "data": {
            "text/plain": [
              "\"The most repeated word is 'f' with 5 repetitions.\""
            ],
            "application/vnd.google.colaboratory.intrinsic+json": {
              "type": "string"
            }
          },
          "metadata": {},
          "execution_count": 23
        }
      ]
    },
    {
      "cell_type": "markdown",
      "source": [
        "# 22.\tCreate a function which will accept one file and returns all occurrences of the word {‘market’ : 3, ‘is’:5, ‘new’:2}\n"
      ],
      "metadata": {
        "id": "xqTg50HTmnfb"
      }
    },
    {
      "cell_type": "code",
      "source": [
        "import re\n",
        "from collections import Counter\n",
        "\n",
        "def word_occurrences(filepath, target_words):\n",
        "    try:\n",
        "        with open(filepath, 'r', encoding='utf-8') as file:\n",
        "            text = file.read().lower()\n",
        "    except FileNotFoundError:\n",
        "        return \"Error: File not found.\"\n",
        "\n",
        "    word_counts = Counter(re.findall(r'\\b\\w+\\b', text))\n",
        "\n",
        "    result = {}\n",
        "    for word in target_words:\n",
        "        result[word] = word_counts[word]\n",
        "\n",
        "    return result\n",
        "filepath = input(\"Enter the file path:\") #e.g. /content/drive/MyDrive/filename.txt\n",
        "\n",
        "occurrences = word_occurrences(filepath, target_words)\n",
        "occurrences\n"
      ],
      "metadata": {
        "colab": {
          "base_uri": "https://localhost:8080/",
          "height": 53
        },
        "id": "CsgJaZ-8j4sO",
        "outputId": "27cffa97-b992-4d78-dae2-5da2437b51ae"
      },
      "execution_count": null,
      "outputs": [
        {
          "name": "stdout",
          "output_type": "stream",
          "text": [
            "Enter the file path:/content/drive/MyDrive/filename.txt\n"
          ]
        },
        {
          "output_type": "execute_result",
          "data": {
            "text/plain": [
              "'Error: File not found.'"
            ],
            "application/vnd.google.colaboratory.intrinsic+json": {
              "type": "string"
            }
          },
          "metadata": {},
          "execution_count": 25
        }
      ]
    },
    {
      "cell_type": "markdown",
      "source": [
        "# 25.\tCreate a class for file reading"
      ],
      "metadata": {
        "id": "6NecXPLVo-iE"
      }
    },
    {
      "cell_type": "code",
      "source": [
        "class FileReader:\n",
        "    def __init__(self, filename):\n",
        "        self.filename = filename\n",
        "        self.file_contents = None\n",
        "\n",
        "    def read_file(self):\n",
        "        try:\n",
        "            with open(self.filename, 'r', encoding='utf-8') as file:\n",
        "                self.file_contents = file.read()\n",
        "            return self.file_contents\n",
        "        except FileNotFoundError:\n",
        "            print(f\"Error: File '{self.filename}' not found.\")\n",
        "            return None\n",
        "        except Exception as e:\n",
        "            print(f\"An error occurred: {e}\")\n",
        "            return None\n",
        "\n",
        "    def get_file_contents(self):\n",
        "      return self.file_contents\n"
      ],
      "metadata": {
        "id": "H4sjCvMOj4ps"
      },
      "execution_count": null,
      "outputs": []
    },
    {
      "cell_type": "markdown",
      "source": [
        "\n",
        "\n",
        "# 26. Create a function that accepts the dictionary. Dictionary may have values in any data type format. If values are in integer or float then return respective key.\n",
        "\n"
      ],
      "metadata": {
        "id": "ME0QbqzJdgGK"
      }
    },
    {
      "cell_type": "code",
      "source": [
        "def get_numeric_keys(d):\n",
        "    return [key for key, value in d.items() if isinstance(value, (int, float))]\n",
        "\n",
        "d = {'name': 'John', 'age': 30, 'height': 5.9, 'city': 'New York'}\n",
        "print(get_numeric_keys(d))"
      ],
      "metadata": {
        "id": "OThCTONEj4ne",
        "colab": {
          "base_uri": "https://localhost:8080/"
        },
        "outputId": "d802adc5-6fe8-46aa-a42e-9f28a1002135"
      },
      "execution_count": 4,
      "outputs": [
        {
          "output_type": "stream",
          "name": "stdout",
          "text": [
            "['age', 'height']\n"
          ]
        }
      ]
    },
    {
      "cell_type": "markdown",
      "source": [
        "\n",
        "\n",
        "# 27. Create one decorator having exception logic inside it and create another function which will refer to the decorator in case of errors.\n",
        "\n"
      ],
      "metadata": {
        "id": "jwYOZDhgdl3s"
      }
    },
    {
      "cell_type": "code",
      "source": [
        "def exception_decorator(func):\n",
        "    def wrapper(*args, **kwargs):\n",
        "        try:\n",
        "            return func(*args, **kwargs)\n",
        "        except Exception as e:\n",
        "            print(f\"An error occurred: {e}\")\n",
        "    return wrapper\n",
        "\n",
        "@exception_decorator\n",
        "def validate_name(name):\n",
        "    if not name.isalpha():\n",
        "        raise ValueError(\"Name must contain only letters.\")\n",
        "    return name\n",
        "\n",
        "print(validate_name(\"John\"))\n",
        "print(validate_name(\"John123\"))"
      ],
      "metadata": {
        "id": "_bonRqDwj4ki",
        "colab": {
          "base_uri": "https://localhost:8080/"
        },
        "outputId": "33139f9c-f91e-4b89-bead-9fdbd990cfc1"
      },
      "execution_count": 5,
      "outputs": [
        {
          "output_type": "stream",
          "name": "stdout",
          "text": [
            "John\n",
            "An error occurred: Name must contain only letters.\n",
            "None\n"
          ]
        }
      ]
    },
    {
      "cell_type": "markdown",
      "source": [
        "\n",
        "\n",
        "# 28. Create a class User. User will be instantiated based on key available in the dictionary. If the dictionary does not have the key then generate an error. If the dictionary has the key then display values against the same.\n",
        "\n"
      ],
      "metadata": {
        "id": "ymYS6sJ_dtil"
      }
    },
    {
      "cell_type": "code",
      "source": [
        "class User:\n",
        "    def __init__(self, user_data):\n",
        "        required_keys = ['name', 'age', 'email']\n",
        "        for key in required_keys:\n",
        "            if key not in user_data:\n",
        "                raise ValueError(f\"Missing required key: {key}\")\n",
        "        self.name = user_data['name']\n",
        "        self.age = user_data['age']\n",
        "        self.email = user_data['email']\n",
        "\n",
        "    def display(self):\n",
        "        print(f\"Name: {self.name}\")\n",
        "        print(f\"Age: {self.age}\")\n",
        "        print(f\"Email: {self.email}\")\n",
        "\n",
        "user_data = {'name': 'John', 'age': 30, 'email': 'john@example.com'}\n",
        "user = User(user_data)\n",
        "user.display()"
      ],
      "metadata": {
        "id": "NatViF-ij4RT",
        "colab": {
          "base_uri": "https://localhost:8080/"
        },
        "outputId": "969a412a-98e6-4d16-9c47-bf6815e97301"
      },
      "execution_count": 6,
      "outputs": [
        {
          "output_type": "stream",
          "name": "stdout",
          "text": [
            "Name: John\n",
            "Age: 30\n",
            "Email: john@example.com\n"
          ]
        }
      ]
    },
    {
      "cell_type": "markdown",
      "source": [
        "\n",
        "\n",
        "# 29. Create a class Pharma. One user A will enter the medicine name and price. Another user B will generate the bill based on the entry done by the first user.\n",
        "\n"
      ],
      "metadata": {
        "id": "EVwdjXK4dyQY"
      }
    },
    {
      "cell_type": "code",
      "source": [
        "class Pharma:\n",
        "    def __init__(self):\n",
        "        self.medicines = {}\n",
        "\n",
        "    def add_medicine(self, name, price):\n",
        "        self.medicines[name] = price\n",
        "\n",
        "    def generate_bill(self, order):\n",
        "        total = sum(self.medicines[medicine] * quantity for medicine, quantity in order.items())\n",
        "        return total\n",
        "\n",
        "pharma = Pharma()\n",
        "pharma.add_medicine('Paracetamol', 10)\n",
        "pharma.add_medicine('Aspirin', 5)\n",
        "\n",
        "order = {'Paracetamol': 2, 'Aspirin': 3}\n",
        "print(f\"Total Bill: {pharma.generate_bill(order)}\")"
      ],
      "metadata": {
        "colab": {
          "base_uri": "https://localhost:8080/"
        },
        "id": "lbaLKcU5dwoO",
        "outputId": "1dc7d164-d298-4fd6-b1a4-61a9f15ae3c5"
      },
      "execution_count": 7,
      "outputs": [
        {
          "output_type": "stream",
          "name": "stdout",
          "text": [
            "Total Bill: 35\n"
          ]
        }
      ]
    },
    {
      "cell_type": "markdown",
      "source": [
        "\n",
        "# 30. Read the file if the file contains a number, then return the dictionary based on the position and values of the number.\n",
        "\n"
      ],
      "metadata": {
        "id": "RrLNNDPzd3OW"
      }
    },
    {
      "cell_type": "code",
      "source": [
        "def number_positions(file_path):\n",
        "    with open(file_path, 'r') as file:\n",
        "        text = file.read()\n",
        "        numbers = {i: int(word) for i, word in enumerate(text.split()) if word.isdigit()}\n",
        "    return numbers\n",
        "\n",
        "print(number_positions('example.txt'))"
      ],
      "metadata": {
        "id": "7QVPXnSQdxug"
      },
      "execution_count": null,
      "outputs": []
    },
    {
      "cell_type": "markdown",
      "source": [
        "# 31. Create a class for file reading. If the file contains a number, then return the dictionary based on the user object, having a sub-dictionary position and values of the number against that user file.\n",
        "\n"
      ],
      "metadata": {
        "id": "9zpcM_hweD_f"
      }
    },
    {
      "cell_type": "code",
      "source": [
        "class FileReader:\n",
        "    def __init__(self, file_path):\n",
        "        self.file_path = file_path\n",
        "\n",
        "    def read_numbers(self):\n",
        "        with open(self.file_path, 'r') as file:\n",
        "            text = file.read()\n",
        "            numbers = {i: int(word) for i, word in enumerate(text.split()) if word.isdigit()}\n",
        "        return numbers\n",
        "\n",
        "file_reader = FileReader('example.txt')\n",
        "print(file_reader.read_numbers())"
      ],
      "metadata": {
        "id": "CzcqPryleS7z"
      },
      "execution_count": null,
      "outputs": []
    },
    {
      "cell_type": "markdown",
      "source": [
        "# 32. In the hotel booking portal, the user will enter the PAN card name and mobile number, store the same information into a dictionary after successful booking the user will get a confirmation number.\n",
        "\n"
      ],
      "metadata": {
        "id": "1WADaMF2eUKb"
      }
    },
    {
      "cell_type": "code",
      "source": [
        "import uuid\n",
        "\n",
        "def book_hotel():\n",
        "    pan_card = input(\"Enter PAN card name: \")\n",
        "    mobile_number = input(\"Enter mobile number: \")\n",
        "    booking_info = {'PAN': pan_card, 'Mobile': mobile_number}\n",
        "    confirmation_number = str(uuid.uuid4())\n",
        "    booking_info['ConfirmationNumber'] = confirmation_number\n",
        "    return booking_info\n",
        "\n",
        "print(book_hotel())"
      ],
      "metadata": {
        "colab": {
          "base_uri": "https://localhost:8080/"
        },
        "id": "leaBP_l5dxp1",
        "outputId": "9d41d09d-2c3f-4612-d965-7078048ce020"
      },
      "execution_count": 10,
      "outputs": [
        {
          "output_type": "stream",
          "name": "stdout",
          "text": [
            "Enter PAN card name: PFRPS123L\n",
            "Enter mobile number: 9398462764\n",
            "{'PAN': 'PFRPS123L', 'Mobile': '9398462764', 'ConfirmationNumber': '6f3c9110-1d38-4d57-be31-d8f4557b2fdc'}\n"
          ]
        }
      ]
    },
    {
      "cell_type": "markdown",
      "source": [
        "# 33. Create a superclass User. Having methods register, sign in, sign out. Superclass can be inherited by student, professor, admin.\n",
        "\n"
      ],
      "metadata": {
        "id": "ZQvI9xIIedrj"
      }
    },
    {
      "source": [
        "class User:\n",
        "    def __init__(self, username, password):\n",
        "        self.username = username\n",
        "        self.password = password\n",
        "\n",
        "    def register(self):\n",
        "        print(f\"{self.username} registered successfully.\")\n",
        "\n",
        "    def sign_in(self):\n",
        "        print(f\"{self.username} signed in successfully.\")\n",
        "\n",
        "    def sign_out(self):\n",
        "        print(f\"{self.username} signed out successfully.\")\n",
        "\n",
        "class Student(User):\n",
        "\n",
        "    pass"
      ],
      "cell_type": "code",
      "metadata": {
        "id": "4NkD9zLOem7M"
      },
      "execution_count": 12,
      "outputs": []
    }
  ]
}