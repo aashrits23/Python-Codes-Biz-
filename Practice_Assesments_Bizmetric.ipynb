{
  "nbformat": 4,
  "nbformat_minor": 0,
  "metadata": {
    "colab": {
      "provenance": [],
      "authorship_tag": "ABX9TyPc4Ua7tn74RwZM+NzOfUM5",
      "include_colab_link": true
    },
    "kernelspec": {
      "name": "python3",
      "display_name": "Python 3"
    },
    "language_info": {
      "name": "python"
    }
  },
  "cells": [
    {
      "cell_type": "markdown",
      "metadata": {
        "id": "view-in-github",
        "colab_type": "text"
      },
      "source": [
        "<a href=\"https://colab.research.google.com/github/aashrits23/Python-Codes-Biz-/blob/main/Practice_Assesments_Bizmetric.ipynb\" target=\"_parent\"><img src=\"https://colab.research.google.com/assets/colab-badge.svg\" alt=\"Open In Colab\"/></a>"
      ]
    },
    {
      "cell_type": "markdown",
      "source": [
        "Q1) User will enter the start date and end date. Ask user to enter the task to be done on weekdays. If it is weekend then no task should be allotted."
      ],
      "metadata": {
        "id": "KB2dn9ysmeoa"
      }
    },
    {
      "cell_type": "code",
      "source": [
        "current_date = start_date\n",
        "while current_date <= end_date:\n",
        "    if current_date.weekday() < 5:\n",
        "        task = input(\"Enter task : \")\n",
        "    else:\n",
        "        print(\"Today is a weekend. No task assigned.\")\n",
        "    current_date += timedelta(days=1)\n"
      ],
      "metadata": {
        "colab": {
          "base_uri": "https://localhost:8080/"
        },
        "id": "5DjgraNwtfN4",
        "outputId": "598224d5-ae9d-4bfa-e215-f9602c567811"
      },
      "execution_count": null,
      "outputs": [
        {
          "name": "stdout",
          "output_type": "stream",
          "text": [
            "Enter task : Sleeping\n",
            "Enter task : Walking\n",
            "Enter task : Running\n",
            "Enter task : Swimming\n",
            "Enter task : Playing\n",
            "Today is a weekend. No task assigned.\n",
            "Today is a weekend. No task assigned.\n",
            "Enter task : Jogging\n"
          ]
        }
      ]
    },
    {
      "source": [
        "from datetime import datetime, timedelta\n",
        "\n",
        "start_date = input(\"Enter the start date (YYYY-MM-DD): \")\n",
        "end_date = input(\"Enter the end date (YYYY-MM-DD): \")\n",
        "\n",
        "start_date = datetime.strptime(start_date, \"%Y-%m-%d\")\n",
        "end_date = datetime.strptime(end_date, \"%Y-%m-%d\")\n",
        "\n",
        "current_date = start_date\n",
        "while current_date <= end_date:\n",
        "    if current_date.weekday() < 5:\n",
        "        task = input(f\"Enter task for {current_date.strftime('%Y-%m-%d')}: \")\n",
        "        print(f\"Task for {current_date.strftime('%Y-%m-%d')}: {task}\")\n",
        "    else:\n",
        "        print(f\"{current_date.strftime('%Y-%m-%d')} is a weekend. No task assigned.\")\n",
        "    current_date += timedelta(days=1)"
      ],
      "cell_type": "code",
      "metadata": {
        "colab": {
          "base_uri": "https://localhost:8080/"
        },
        "id": "YiEbb8FYqVIx",
        "outputId": "ce787f4c-ecde-4961-cca9-fa0ca14208f4"
      },
      "execution_count": null,
      "outputs": [
        {
          "output_type": "stream",
          "name": "stdout",
          "text": [
            "Enter the start date (YYYY-MM-DD): 2025-01-20\n",
            "Enter the end date (YYYY-MM-DD): 2025-01-27\n",
            "Enter task for 2025-01-20: Cleaning\n",
            "Task for 2025-01-20: Cleaning\n",
            "Enter task for 2025-01-21: Washing\n",
            "Task for 2025-01-21: Washing\n",
            "Enter task for 2025-01-22: Gardening\n",
            "Task for 2025-01-22: Gardening\n",
            "Enter task for 2025-01-23: Dusting\n",
            "Task for 2025-01-23: Dusting\n",
            "Enter task for 2025-01-24: Planting \n",
            "Task for 2025-01-24: Planting \n",
            "2025-01-25 is a weekend. No task assigned.\n",
            "2025-01-26 is a weekend. No task assigned.\n",
            "Enter task for 2025-01-27: Cleaning\n",
            "Task for 2025-01-27: Cleaning\n"
          ]
        }
      ]
    },
    {
      "cell_type": "markdown",
      "source": [
        "Q2) Generate the bill with proper format to create the bill file. User may enter more than 1 element\n"
      ],
      "metadata": {
        "id": "Y3TFiK_eu0oh"
      }
    },
    {
      "cell_type": "code",
      "source": [
        "items = [(\"Dosa\", 2, 100.00), (\"Idly\", 3, 50.00), (\"PanCake\", 1, 300.00)]\n",
        "hotel_name = \"LALALA Hotel\"\n",
        "\n",
        "print(f\"{hotel_name:^40}\")\n",
        "print(f\"{'Item':<15}{'Qty':<10}{'Price':<10}{'Total':<10}\")\n",
        "print(\"=\" * 40)\n",
        "\n",
        "total = sum(b * c for a, b, c in items if not print(f\"{a:<15}{b:<10}{c:<10.2f}{b * c:<10.2f}\"))\n",
        "print(\"=\" * 40 + f\"\\n{'Total Bill':<35}{total:<10.2f}\")\n"
      ],
      "metadata": {
        "colab": {
          "base_uri": "https://localhost:8080/"
        },
        "id": "K50d5UOXqCHp",
        "outputId": "115945d2-a21d-4ad9-b2f9-2b618c2d7dd0"
      },
      "execution_count": 4,
      "outputs": [
        {
          "output_type": "stream",
          "name": "stdout",
          "text": [
            "              LALALA Hotel              \n",
            "Item           Qty       Price     Total     \n",
            "========================================\n",
            "Dosa           2         100.00    200.00    \n",
            "Idly           3         50.00     150.00    \n",
            "PanCake        1         300.00    300.00    \n",
            "========================================\n",
            "Total Bill                         650.00    \n"
          ]
        }
      ]
    },
    {
      "cell_type": "code",
      "source": [
        "items = []\n",
        "hotel_name = \"LALALA Hotel\"\n",
        "\n",
        "print(f\"{hotel_name:^40}\")\n",
        "print(\"Enter food items: \")\n",
        "while True:\n",
        "    name = input(\"Enter the dish name (or type 'done' to finish): \")\n",
        "    if name.lower() == 'done':\n",
        "        break\n",
        "    qty = int(input(\"Enter Quantity: \"))\n",
        "    price = float(input(\"Enter Price: \"))\n",
        "    items.append((name, qty, price))\n",
        "\n",
        "print(f\"{'Item':<15}{'Qty':<10}{'Price':<10}{'Total':<10}\")\n",
        "print(\"=\" * 40)\n",
        "\n",
        "total_bill = 0\n",
        "for item in items:\n",
        "    name, qty, price = item\n",
        "    total = qty * price\n",
        "    print(f\"{name:<15}{qty:<10}{price:<10.2f}{total:<10.2f}\")\n",
        "    total_bill += total\n",
        "\n",
        "print(\"=\" * 40 + f\"\\n{'Total Bill':<35}{total_bill:<10.2f}\")"
      ],
      "metadata": {
        "colab": {
          "base_uri": "https://localhost:8080/"
        },
        "id": "ZG1-dKjWEzNl",
        "outputId": "d798d431-6491-43b8-c340-de86c5a2c239"
      },
      "execution_count": 7,
      "outputs": [
        {
          "output_type": "stream",
          "name": "stdout",
          "text": [
            "              LALALA Hotel              \n",
            "Enter food items: \n",
            "Enter the dish name (or type 'done' to finish): idly\n",
            "Enter Quantity: 3\n",
            "Enter Price: 40\n",
            "Enter the dish name (or type 'done' to finish): dosa\n",
            "Enter Quantity: 2\n",
            "Enter Price: 50\n",
            "Enter the dish name (or type 'done' to finish): done\n",
            "Item           Qty       Price     Total     \n",
            "========================================\n",
            "idly           3         40.00     120.00    \n",
            "dosa           2         50.00     100.00    \n",
            "========================================\n",
            "Total Bill                         220.00    \n"
          ]
        }
      ]
    },
    {
      "cell_type": "markdown",
      "source": [
        "Q3) Calculate the age based on the date entered"
      ],
      "metadata": {
        "id": "11VQktz6v9GQ"
      }
    },
    {
      "cell_type": "code",
      "source": [
        "from datetime import datetime, timedelta\n",
        "\n",
        "def calculate_age(dob):\n",
        "  try:\n",
        "    birthdate = datetime.strptime(dob, \"%Y-%m-%d\")\n",
        "    today = datetime.now()\n",
        "    age = today.year - birthdate.year - ((today.month, today.day) < (birthdate.month, birthdate.day))\n",
        "    return age\n",
        "  except ValueError:\n",
        "    return None\n",
        "\n",
        "dob = input(\"Enter your dob (YYYY-MM-DD): \")\n",
        "age = calculate_age(dob)\n",
        "\n",
        "if age is not None:\n",
        "  print(f\"Your age is: {age}\")\n",
        "else:\n",
        "  print(\"Invalid date of birth format. Please use YYYY-MM-DD.\")"
      ],
      "metadata": {
        "colab": {
          "base_uri": "https://localhost:8080/"
        },
        "id": "Dryn3Jr6x3dQ",
        "outputId": "5755236b-7798-4209-d5d3-364f3ead0351"
      },
      "execution_count": null,
      "outputs": [
        {
          "output_type": "stream",
          "name": "stdout",
          "text": [
            "Enter your dob (YYYY-MM-DD): 2003-08-23\n",
            "Your age is: 21\n"
          ]
        }
      ]
    },
    {
      "cell_type": "markdown",
      "source": [
        "Q4) Create the list of mix element by asking user to enter the values. Segregate the mixed data type list into two different list"
      ],
      "metadata": {
        "id": "KIf8qHWT2Na9"
      }
    },
    {
      "cell_type": "code",
      "source": [
        "from datetime import datetime, timedelta\n",
        "import re\n",
        "\n",
        "def create_mixed_list():\n",
        "    mixed_list = []\n",
        "    while True:\n",
        "        try:\n",
        "            element = input(\"Enter an element (or type 'done' to finish): \")\n",
        "            if element.lower() == 'done':\n",
        "                break\n",
        "            mixed_list.append(element)\n",
        "        except ValueError:\n",
        "            print(\"Invalid input. Please enter a valid number or 'done'.\")\n",
        "    return mixed_list\n",
        "\n",
        "def segregate_list(mixed_list):\n",
        "    numbers = []\n",
        "    strings = []\n",
        "    for item in mixed_list:\n",
        "        try:\n",
        "            num = float(item)\n",
        "            numbers.append(num)\n",
        "        except ValueError:\n",
        "            strings.append(item)\n",
        "    return numbers, strings\n",
        "\n",
        "\n",
        "mixed_data = create_mixed_list()\n",
        "numeric_list, string_list = segregate_list(mixed_data)\n",
        "\n",
        "print(\"Numeric List:\", numeric_list)\n",
        "print(\"String List:\", string_list)"
      ],
      "metadata": {
        "colab": {
          "base_uri": "https://localhost:8080/"
        },
        "id": "gkBFkIs12JAa",
        "outputId": "421b48e4-fc80-43f3-ccf0-df90b716a09d"
      },
      "execution_count": null,
      "outputs": [
        {
          "output_type": "stream",
          "name": "stdout",
          "text": [
            "Enter an element (or type 'done' to finish): a\n",
            "Enter an element (or type 'done' to finish): b\n",
            "Enter an element (or type 'done' to finish): c\n",
            "Enter an element (or type 'done' to finish): 1\n",
            "Enter an element (or type 'done' to finish): 2\n",
            "Enter an element (or type 'done' to finish): 5\n",
            "Enter an element (or type 'done' to finish): 467\n",
            "Enter an element (or type 'done' to finish): asd\n",
            "Enter an element (or type 'done' to finish): done\n",
            "Numeric List: [1.0, 2.0, 5.0, 467.0]\n",
            "String List: ['a', 'b', 'c', 'asd']\n"
          ]
        }
      ]
    },
    {
      "cell_type": "markdown",
      "source": [
        "Q5)Based on the modules generate proper logger to all files and use proper classes and implement encapsulation, abstract classes, inheritance and polymorphism wherever it is needed."
      ],
      "metadata": {
        "id": "iZG-bfohCzHF"
      }
    },
    {
      "cell_type": "code",
      "source": [
        "import logging\n",
        "from abc import ABC, abstractmethod\n",
        "from datetime import datetime\n",
        "\n",
        "def setup_logger(logger_name, file_name, level=logging.INFO):\n",
        "    log = logging.getLogger(logger_name)\n",
        "    log.setLevel(level)\n",
        "    handler = logging.FileHandler(file_name)\n",
        "    formatter = logging.Formatter('%(asctime)s - %(name)s - %(levelname)s - %(message)s')\n",
        "    handler.setFormatter(formatter)\n",
        "    log.addHandler(handler)\n",
        "    return log\n",
        "\n",
        "class Authentication(ABC):\n",
        "    @abstractmethod\n",
        "    def login(self, username, password):\n",
        "        pass\n",
        "\n",
        "    @abstractmethod\n",
        "    def logout(self, username):\n",
        "        pass\n",
        "\n",
        "user_logger = setup_logger(\"UserLogger\", \"user_activity.log\")\n",
        "admin_logger = setup_logger(\"AdminLogger\", \"admin_activity.log\")\n",
        "\n",
        "class UserAuth(Authentication):\n",
        "    def __init__(self):\n",
        "        self.user_credentials = {\"aash123\": \"pass123\", \"aashrits23\": \"pass456\", \"user1\": \"pass789\"}\n",
        "        self.active_users = set()\n",
        "\n",
        "    def login(self, username, password):\n",
        "        try:\n",
        "            if username in self.user_credentials and self.user_credentials[username] == password:\n",
        "                self.active_users.add(username)\n",
        "                user_logger.info(f\"User '{username}' logged in.\")\n",
        "                return True\n",
        "            user_logger.warning(f\"Login failed for user '{username}'.\")\n",
        "            return False\n",
        "        except Exception as e:\n",
        "            user_logger.error(f\"Error during login for user '{username}': {e}\")\n",
        "            return False\n",
        "\n",
        "    def logout(self, username):\n",
        "        try:\n",
        "            if username in self.active_users:\n",
        "                self.active_users.remove(username)\n",
        "                user_logger.info(f\"User '{username}' logged out.\")\n",
        "                return True\n",
        "            user_logger.warning(f\"User '{username}' tried to log out without being logged in.\")\n",
        "            return False\n",
        "        except Exception as e:\n",
        "            user_logger.error(f\"Error during logout for user '{username}': {e}\")\n",
        "            return False\n",
        "\n",
        "class AdminAuth(UserAuth):\n",
        "    def __init__(self):\n",
        "        super().__init__()\n",
        "        self.admin_credentials = {\"admin1\": \"admin123\"}\n",
        "\n",
        "    def login(self, username, password):\n",
        "        try:\n",
        "            if username in self.admin_credentials and self.admin_credentials[username] == password:\n",
        "                admin_logger.info(f\"Admin '{username}' logged in.\")\n",
        "                return True\n",
        "            admin_logger.warning(f\"Failed admin login attempt for '{username}'.\")\n",
        "            return False\n",
        "        except Exception as e:\n",
        "            admin_logger.error(f\"Error during admin login for '{username}': {e}\")\n",
        "            return False\n",
        "\n",
        "def is_valid_username(username):\n",
        "    \"\"\"Checks if a username is alphanumeric and at least 3 characters long.\"\"\"\n",
        "    return username.isalnum() and len(username) >= 3\n",
        "\n",
        "def main():\n",
        "    user_auth = UserAuth()\n",
        "    admin_auth = AdminAuth()\n",
        "\n",
        "    while True:\n",
        "        print(\"\\nOptions:\\n1. User Login\\n2. Admin Login\\n3. Logout\\n4. Exit\")\n",
        "        user_input = input(\"Choose an option: \")\n",
        "\n",
        "        try:\n",
        "            if user_input == \"1\":\n",
        "                uname = input(\"Enter username: \")\n",
        "                pwd = input(\"Enter password: \")\n",
        "                if is_valid_username(uname) and user_auth.login(uname, pwd):\n",
        "                    current_time = datetime.now().strftime(\"%Y-%m-%d %H:%M:%S\")\n",
        "                    print(f\"Welcome, '{uname}'! You are now logged in. [Timestamp: {current_time}]\")\n",
        "                else:\n",
        "                    print(\"Login failed. Check your credentials.\")\n",
        "\n",
        "            elif user_input == \"2\":\n",
        "                admin_name = input(\"Enter admin username: \")\n",
        "                admin_pwd = input(\"Enter admin password: \")\n",
        "                if is_valid_username(admin_name) and admin_auth.login(admin_name, admin_pwd):\n",
        "                    current_time = datetime.now().strftime(\"%Y-%m-%d %H:%M:%S\")\n",
        "                    print(f\"Admin '{admin_name}' logged in successfully. [Timestamp: {current_time}]\")\n",
        "                else:\n",
        "                    print(\"Invalid admin credentials.\")\n",
        "\n",
        "            elif user_input == \"3\":\n",
        "                logout_user = input(\"Enter username to log out: \")\n",
        "                if user_auth.logout(logout_user) or admin_auth.logout(logout_user):\n",
        "                    current_time = datetime.now().strftime(\"%Y-%m-%d %H:%M:%S\")\n",
        "                    print(f\"'{logout_user}' logged out successfully. [Timestamp: {current_time}]\")\n",
        "                else:\n",
        "                    print(f\"'{logout_user}' was not logged in.\")\n",
        "\n",
        "            elif user_input == \"4\":\n",
        "                print(\"Goodbye!\")\n",
        "                break\n",
        "\n",
        "            else:\n",
        "                print(\"Invalid selection. Please choose again.\")\n",
        "        except Exception as e:\n",
        "            print(f\"An error occurred: {e}\")\n",
        "            logging.error(f\"Unexpected error: {e}\")\n",
        "\n",
        "if __name__ == \"__main__\":\n",
        "    main()\n"
      ],
      "metadata": {
        "colab": {
          "base_uri": "https://localhost:8080/"
        },
        "id": "l8b_v46POcgJ",
        "outputId": "bc6be971-5e74-4ccf-9adc-2e292bc3a2b7"
      },
      "execution_count": 10,
      "outputs": [
        {
          "name": "stdout",
          "output_type": "stream",
          "text": [
            "\n",
            "Options:\n",
            "1. User Login\n",
            "2. Admin Login\n",
            "3. Logout\n",
            "4. Exit\n",
            "Choose an option: 1\n",
            "Enter username: aash123\n",
            "Enter password: pass123\n"
          ]
        },
        {
          "output_type": "stream",
          "name": "stderr",
          "text": [
            "INFO:UserLogger:User 'aash123' logged in.\n"
          ]
        },
        {
          "name": "stdout",
          "output_type": "stream",
          "text": [
            "Welcome, 'aash123'! You are now logged in. [Timestamp: 2025-01-21 09:38:09]\n",
            "\n",
            "Options:\n",
            "1. User Login\n",
            "2. Admin Login\n",
            "3. Logout\n",
            "4. Exit\n",
            "Choose an option: aashrits23\n",
            "Invalid selection. Please choose again.\n",
            "\n",
            "Options:\n",
            "1. User Login\n",
            "2. Admin Login\n",
            "3. Logout\n",
            "4. Exit\n",
            "Choose an option: 1\n",
            "Enter username: aashrits23\n",
            "Enter password: pass456\n"
          ]
        },
        {
          "output_type": "stream",
          "name": "stderr",
          "text": [
            "INFO:UserLogger:User 'aashrits23' logged in.\n"
          ]
        },
        {
          "name": "stdout",
          "output_type": "stream",
          "text": [
            "Welcome, 'aashrits23'! You are now logged in. [Timestamp: 2025-01-21 09:38:34]\n",
            "\n",
            "Options:\n",
            "1. User Login\n",
            "2. Admin Login\n",
            "3. Logout\n",
            "4. Exit\n",
            "Choose an option: aash12\n",
            "Invalid selection. Please choose again.\n",
            "\n",
            "Options:\n",
            "1. User Login\n",
            "2. Admin Login\n",
            "3. Logout\n",
            "4. Exit\n",
            "Choose an option: 2\n",
            "Enter admin username: admin1\n",
            "Enter admin password: admin123\n"
          ]
        },
        {
          "output_type": "stream",
          "name": "stderr",
          "text": [
            "INFO:AdminLogger:Admin 'admin1' logged in.\n"
          ]
        },
        {
          "name": "stdout",
          "output_type": "stream",
          "text": [
            "Admin 'admin1' logged in successfully. [Timestamp: 2025-01-21 09:38:53]\n",
            "\n",
            "Options:\n",
            "1. User Login\n",
            "2. Admin Login\n",
            "3. Logout\n",
            "4. Exit\n",
            "Choose an option: 3\n",
            "Enter username to log out: aashrits23\n"
          ]
        },
        {
          "output_type": "stream",
          "name": "stderr",
          "text": [
            "INFO:UserLogger:User 'aashrits23' logged out.\n"
          ]
        },
        {
          "output_type": "stream",
          "name": "stdout",
          "text": [
            "'aashrits23' logged out successfully. [Timestamp: 2025-01-21 09:39:05]\n",
            "\n",
            "Options:\n",
            "1. User Login\n",
            "2. Admin Login\n",
            "3. Logout\n",
            "4. Exit\n",
            "Choose an option: 4\n",
            "Goodbye!\n"
          ]
        }
      ]
    },
    {
      "cell_type": "markdown",
      "source": [
        "Q6) Based on database ask user to enter the values and store the same in the variable with validation"
      ],
      "metadata": {
        "id": "6vJyqWKFKbvX"
      }
    },
    {
      "cell_type": "code",
      "source": [
        "import os\n",
        "import re\n",
        "import logging\n",
        "from datetime import datetime\n",
        "\n",
        "LOG_DIR = r\"D:\\Work Related\\Logger files\"\n",
        "os.makedirs(LOG_DIR, exist_ok=True)\n",
        "\n",
        "class LoggerSetup:\n",
        "    def __init__(self, customer_id):\n",
        "        self.logger = self._initialize_logger(customer_id)\n",
        "\n",
        "    def _initialize_logger(self, customer_id):\n",
        "        timestamp = datetime.now().strftime(\"%Y%m%d_%H%M%S\")\n",
        "        log_filename = os.path.join(LOG_DIR, f\"customer_{customer_id}_{timestamp}.log\")\n",
        "        logger = logging.getLogger(f\"Logger_{customer_id}\")\n",
        "        logger.setLevel(logging.DEBUG)\n",
        "\n",
        "        if not logger.handlers:\n",
        "            file_handler = logging.FileHandler(log_filename)\n",
        "            file_handler.setFormatter(logging.Formatter('%(asctime)s - %(levelname)s - %(message)s'))\n",
        "            logger.addHandler(file_handler)\n",
        "\n",
        "        return logger\n",
        "\n",
        "class Validator:\n",
        "    def __init__(self, logger):\n",
        "        self.logger = logger\n",
        "\n",
        "    def validate(self, pattern, value, error_message):\n",
        "        if not re.fullmatch(pattern, value):\n",
        "            self.logger.error(error_message)\n",
        "            raise ValueError(error_message)\n",
        "        self.logger.info(f\"Validation passed for value: {value}\")\n",
        "        return True\n",
        "\n",
        "class CustomerValidation:\n",
        "    used_customer_ids = set()\n",
        "\n",
        "    def __init__(self):\n",
        "        self.logger = None\n",
        "        self.validator = None\n",
        "\n",
        "    def validate_customer_id(self, customer_id):\n",
        "        if not re.fullmatch(\"^[1-9][0-9]{4}$\", customer_id):\n",
        "            print(\"Invalid customer ID. Must be a 5-digit number starting with a non-zero digit.\")\n",
        "            return False\n",
        "\n",
        "        if customer_id in self.used_customer_ids:\n",
        "            print(\"This customer ID has already been used. Please enter a unique ID.\")\n",
        "            return False\n",
        "\n",
        "        self.used_customer_ids.add(customer_id)\n",
        "        logger_setup = LoggerSetup(customer_id)\n",
        "        self.logger = logger_setup.logger\n",
        "        self.validator = Validator(self.logger)\n",
        "        self.logger.info(f\"Customer ID {customer_id} validated successfully.\")\n",
        "        return True\n",
        "\n",
        "    def collect_and_validate_details(self):\n",
        "        try:\n",
        "            self.validator.validate(r\"^[A-Za-z]+$\", input(\"Enter name: \"), \"Invalid name. Name must contain only letters.\")\n",
        "            self.validator.validate(r\"^[0-9]{2}-[0-9]{2}-[0-9]{4}$\", input(\"Enter date of birth (DD-MM-YYYY): \"), \"Invalid date of birth format.\")\n",
        "            self.validator.validate(r\"^[6-9][0-9]{9}$\", input(\"Enter mobile number: \"), \"Invalid mobile number. Must be a 10-digit number starting with 6-9.\")\n",
        "            self.validator.validate(r\"^[a-zA-Z0-9._%+-]+@[a-zA-Z0-9.-]+\\.[a-zA-Z]{2,}$\", input(\"Enter email: \"), \"Invalid email address.\")\n",
        "            self.validator.validate(r\"^.+$\", input(\"Enter address: \"), \"Address cannot be empty.\")\n",
        "            self.validator.validate(r\"^(male|female|other)$\", input(\"Enter gender (male/female/other): \").lower(), \"Invalid gender. Must be male, female, or other.\")\n",
        "            self.validator.validate(r\"^(1[0-2]|[1-9])$\", input(\"Enter number of people (Maximum 12): \"), \"Invalid number of people. Must be between 1 and 12.\")\n",
        "        except ValueError as e:\n",
        "            print(f\"Validation error: {e}\")\n",
        "            self.logger.error(f\"Validation failed: {e}\")\n",
        "            return False\n",
        "        else:\n",
        "            print(\"All details are valid!\")\n",
        "            self.logger.info(\"Validation completed successfully.\")\n",
        "            return True\n",
        "\n",
        "if __name__ == \"__main__\":\n",
        "    print(\"\\nEnter customer details (or type 'exit' to quit):\")\n",
        "    customer_validation = CustomerValidation()\n",
        "\n",
        "    while True:\n",
        "        customer_id = input(\"Enter unique customer ID: \").strip()\n",
        "\n",
        "        if customer_id.lower() == \"exit\":\n",
        "            print(\"Exiting the program.\")\n",
        "            break\n",
        "\n",
        "        if not customer_validation.validate_customer_id(customer_id):\n",
        "            continue\n",
        "\n",
        "        if customer_validation.collect_and_validate_details():\n",
        "            print(\"Validation complete.\")\n",
        "\n",
        "        print(\"\\n------------------------------------------------------\")\n"
      ],
      "metadata": {
        "colab": {
          "base_uri": "https://localhost:8080/"
        },
        "id": "5756OOCSQUcu",
        "outputId": "56550343-f3e2-4358-e8f1-2b8598a9d983"
      },
      "execution_count": 12,
      "outputs": [
        {
          "name": "stdout",
          "output_type": "stream",
          "text": [
            "\n",
            "Enter customer details (or type 'exit' to quit):\n",
            "Enter unique customer ID: aash123\n",
            "Invalid customer ID. Must be a 5-digit number starting with a non-zero digit.\n",
            "Enter unique customer ID: 12345\n"
          ]
        },
        {
          "output_type": "stream",
          "name": "stderr",
          "text": [
            "INFO:Logger_12345:Customer ID 12345 validated successfully.\n"
          ]
        },
        {
          "name": "stdout",
          "output_type": "stream",
          "text": [
            "Enter name: aashrit\n"
          ]
        },
        {
          "output_type": "stream",
          "name": "stderr",
          "text": [
            "INFO:Logger_12345:Validation passed for value: aashrit\n"
          ]
        },
        {
          "name": "stdout",
          "output_type": "stream",
          "text": [
            "Enter date of birth (DD-MM-YYYY): 23-08-2003\n"
          ]
        },
        {
          "output_type": "stream",
          "name": "stderr",
          "text": [
            "INFO:Logger_12345:Validation passed for value: 23-08-2003\n"
          ]
        },
        {
          "name": "stdout",
          "output_type": "stream",
          "text": [
            "Enter mobile number: 9398462764\n"
          ]
        },
        {
          "output_type": "stream",
          "name": "stderr",
          "text": [
            "INFO:Logger_12345:Validation passed for value: 9398462764\n"
          ]
        },
        {
          "name": "stdout",
          "output_type": "stream",
          "text": [
            "Enter email: aashrit@gmail.com\n"
          ]
        },
        {
          "output_type": "stream",
          "name": "stderr",
          "text": [
            "INFO:Logger_12345:Validation passed for value: aashrit@gmail.com\n"
          ]
        },
        {
          "name": "stdout",
          "output_type": "stream",
          "text": [
            "Enter address: pune pashan \n"
          ]
        },
        {
          "output_type": "stream",
          "name": "stderr",
          "text": [
            "INFO:Logger_12345:Validation passed for value: pune pashan \n"
          ]
        },
        {
          "name": "stdout",
          "output_type": "stream",
          "text": [
            "Enter gender (male/female/other): male\n"
          ]
        },
        {
          "output_type": "stream",
          "name": "stderr",
          "text": [
            "INFO:Logger_12345:Validation passed for value: male\n"
          ]
        },
        {
          "name": "stdout",
          "output_type": "stream",
          "text": [
            "Enter number of people (Maximum 12): 10\n"
          ]
        },
        {
          "output_type": "stream",
          "name": "stderr",
          "text": [
            "INFO:Logger_12345:Validation passed for value: 10\n",
            "INFO:Logger_12345:Validation completed successfully.\n"
          ]
        },
        {
          "name": "stdout",
          "output_type": "stream",
          "text": [
            "All details are valid!\n",
            "Validation complete.\n",
            "\n",
            "------------------------------------------------------\n",
            "Enter unique customer ID: 34566\n"
          ]
        },
        {
          "output_type": "stream",
          "name": "stderr",
          "text": [
            "INFO:Logger_34566:Customer ID 34566 validated successfully.\n"
          ]
        },
        {
          "name": "stdout",
          "output_type": "stream",
          "text": [
            "Enter name: Ram\n"
          ]
        },
        {
          "output_type": "stream",
          "name": "stderr",
          "text": [
            "INFO:Logger_34566:Validation passed for value: Ram\n"
          ]
        },
        {
          "name": "stdout",
          "output_type": "stream",
          "text": [
            "Enter date of birth (DD-MM-YYYY): 24-09-2005\n"
          ]
        },
        {
          "output_type": "stream",
          "name": "stderr",
          "text": [
            "INFO:Logger_34566:Validation passed for value: 24-09-2005\n"
          ]
        },
        {
          "name": "stdout",
          "output_type": "stream",
          "text": [
            "Enter mobile number: 9876543210\n"
          ]
        },
        {
          "output_type": "stream",
          "name": "stderr",
          "text": [
            "INFO:Logger_34566:Validation passed for value: 9876543210\n"
          ]
        },
        {
          "name": "stdout",
          "output_type": "stream",
          "text": [
            "Enter email: ram@gmail.com\n"
          ]
        },
        {
          "output_type": "stream",
          "name": "stderr",
          "text": [
            "INFO:Logger_34566:Validation passed for value: ram@gmail.com\n"
          ]
        },
        {
          "name": "stdout",
          "output_type": "stream",
          "text": [
            "Enter address: hyderbad,telangana\n"
          ]
        },
        {
          "output_type": "stream",
          "name": "stderr",
          "text": [
            "INFO:Logger_34566:Validation passed for value: hyderbad,telangana\n"
          ]
        },
        {
          "name": "stdout",
          "output_type": "stream",
          "text": [
            "Enter gender (male/female/other): male\n"
          ]
        },
        {
          "output_type": "stream",
          "name": "stderr",
          "text": [
            "INFO:Logger_34566:Validation passed for value: male\n"
          ]
        },
        {
          "name": "stdout",
          "output_type": "stream",
          "text": [
            "Enter number of people (Maximum 12): 11\n"
          ]
        },
        {
          "output_type": "stream",
          "name": "stderr",
          "text": [
            "INFO:Logger_34566:Validation passed for value: 11\n",
            "INFO:Logger_34566:Validation completed successfully.\n"
          ]
        },
        {
          "output_type": "stream",
          "name": "stdout",
          "text": [
            "All details are valid!\n",
            "Validation complete.\n",
            "\n",
            "------------------------------------------------------\n",
            "Enter unique customer ID: exit\n",
            "Exiting the program.\n"
          ]
        }
      ]
    },
    {
      "cell_type": "markdown",
      "source": [
        "Q7) Create Lambda Function for your data\n"
      ],
      "metadata": {
        "id": "tut2TiG-YUUq"
      }
    },
    {
      "cell_type": "code",
      "source": [
        "import re\n",
        "from datetime import datetime\n",
        "\n",
        "# Lambda functions for validation\n",
        "validate_name = lambda name: re.fullmatch(r\"^[A-Za-z]+$\", name)\n",
        "validate_dob = lambda dob: re.fullmatch(r\"^[0-9]{2}-[0-9]{2}-[0-9]{4}$\", dob) and datetime.strptime(dob, \"%d-%m-%Y\") < datetime.now()\n",
        "validate_mobile = lambda mobile: re.fullmatch(r\"^[6-9][0-9]{9}$\", mobile)\n",
        "validate_email = lambda email: re.fullmatch(r\"^[a-zA-Z0-9._%+-]+@[a-zA-Z0-9.-]+\\.[a-zA-Z]{2,}$\", email)\n",
        "validate_customer_id = lambda customer_id: re.fullmatch(r\"^[1-9][0-9]{4}$\", customer_id)\n",
        "validate_address = lambda address: bool(address.strip())\n",
        "validate_gender = lambda gender: gender.lower() in [\"male\", \"female\", \"other\"]\n",
        "validate_number_of_people = lambda number: re.fullmatch(r\"^([1-9]|1[0-2])$\", number)\n",
        "\n",
        "print(\"\\n\")\n",
        "print(\"Validating customer details\\n\")\n",
        "\n",
        "customer_valid = True\n",
        "\n",
        "if not validate_name(input(\"Enter name: \")):\n",
        "    print(\"Invalid name. Name must contain only letters.\")\n",
        "    customer_valid = False\n",
        "if not validate_dob(input(\"Enter date of birth (DD-MM-YYYY): \")):\n",
        "    print(\"Invalid date of birth. Ensure the format is DD-MM-YYYY and it is a past date.\")\n",
        "    customer_valid = False\n",
        "if not validate_mobile(input(\"Enter mobile number: \")):\n",
        "    print(\"Invalid mobile number. Must be exactly 10 digits and start with 6-9.\")\n",
        "    customer_valid = False\n",
        "if not validate_email(input(\"Enter email: \")):\n",
        "    print(\"Invalid email address.\")\n",
        "    customer_valid = False\n",
        "if not validate_customer_id(input(\"Enter customer ID: \")):\n",
        "    print(\"Invalid customer ID. It should be a 5-digit number starting with 1-9.\")\n",
        "    customer_valid = False\n",
        "if not validate_address(input(\"Enter address: \")):\n",
        "    print(\"Address cannot be empty.\")\n",
        "    customer_valid = False\n",
        "if not validate_gender(input(\"Enter gender (male/female/other): \")):\n",
        "    print(\"Invalid gender. Must be 'male', 'female', or 'other'.\")\n",
        "    customer_valid = False\n",
        "\n",
        "if customer_valid:\n",
        "    print(\"Customer details are valid!\")\n",
        "else:\n",
        "    print(\"Customer details are invalid!\")\n",
        "\n",
        "print(\"\\n\")\n",
        "print(\"Validating service details\\n\")\n",
        "\n",
        "service_valid = True\n",
        "\n",
        "if not validate_customer_id(input(\"Re-enter customer ID: \")):\n",
        "    print(\"Invalid customer ID.\")\n",
        "    service_valid = False\n",
        "if not validate_number_of_people(input(\"Enter number of people (Maximum 12): \")):\n",
        "    print(\"Invalid number of people. Must be between 1 and 12.\")\n",
        "    service_valid = False\n",
        "\n",
        "if service_valid:\n",
        "    print(\"Service details are valid!\")\n",
        "else:\n",
        "    print(\"Service details are invalid!\")\n",
        "\n",
        "print(\"\\n\")\n"
      ],
      "metadata": {
        "colab": {
          "base_uri": "https://localhost:8080/"
        },
        "id": "n_p0VNd7QUaX",
        "outputId": "c5a26e59-8b2d-4272-c02b-0dd60d92d0a5"
      },
      "execution_count": 14,
      "outputs": [
        {
          "output_type": "stream",
          "name": "stdout",
          "text": [
            "\n",
            "\n",
            "Validating customer details\n",
            "\n",
            "Enter name: Aashrit\n",
            "Enter date of birth (DD-MM-YYYY): 23-08-2003\n",
            "Enter mobile number: 1234567890\n",
            "Invalid mobile number. Must be exactly 10 digits and start with 6-9.\n",
            "Enter email: aashrit@gmil.com\n",
            "Enter customer ID: 12345\n",
            "Enter address: hyderabad\n",
            "Enter gender (male/female/other): male\n",
            "Customer details are invalid!\n",
            "\n",
            "\n",
            "Validating service details\n",
            "\n",
            "Re-enter customer ID: 12345\n",
            "Enter number of people (Maximum 12): 10\n",
            "Service details are valid!\n",
            "\n",
            "\n"
          ]
        }
      ]
    }
  ]
}